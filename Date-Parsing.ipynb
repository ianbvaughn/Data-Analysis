{
 "cells": [
  {
   "metadata": {},
   "cell_type": "markdown",
   "source": "# Parsing Dates",
   "id": "60bbc838c20d7232"
  },
  {
   "metadata": {
    "ExecuteTime": {
     "end_time": "2025-04-09T20:49:39.407225Z",
     "start_time": "2025-04-09T20:49:38.240167Z"
    }
   },
   "cell_type": "code",
   "outputs": [],
   "execution_count": 1,
   "source": [
    "import numpy as np\n",
    "import numpy.testing as npt\n",
    "import pandas as pd"
   ],
   "id": "18331993fa688d08"
  },
  {
   "metadata": {},
   "cell_type": "markdown",
   "source": [
    "By default, Pandas doesn't know how to interpret our 'Date' column, and\n",
    "assigns a generic `dtype` of `object`."
   ],
   "id": "bad40650baee866f"
  },
  {
   "metadata": {
    "ExecuteTime": {
     "end_time": "2025-04-09T21:25:07.156623Z",
     "start_time": "2025-04-09T21:25:07.138329Z"
    }
   },
   "cell_type": "code",
   "outputs": [
    {
     "data": {
      "text/plain": [
       "Date      object\n",
       "Price    float64\n",
       "dtype: object"
      ]
     },
     "execution_count": 82,
     "metadata": {},
     "output_type": "execute_result"
    }
   ],
   "execution_count": 82,
   "source": [
    "df = pd.read_csv('data/stock_data.csv')\n",
    "df.dtypes"
   ],
   "id": "fe773d6866af8c92"
  },
  {
   "metadata": {},
   "cell_type": "markdown",
   "source": [
    "To resolve this, we need to do two things: specify a `date_format`, and\n",
    "specify which columns we want to parse as dates.\n",
    "\n",
    "Which `date_format` do we use? Let's look at our data."
   ],
   "id": "9da8b4cd9f8e1d78"
  },
  {
   "metadata": {
    "ExecuteTime": {
     "end_time": "2025-04-09T21:27:43.026923Z",
     "start_time": "2025-04-09T21:27:43.022174Z"
    }
   },
   "cell_type": "code",
   "outputs": [
    {
     "data": {
      "text/plain": [
       "0    3/31/15\n",
       "1     4/1/15\n",
       "2     4/2/15\n",
       "Name: Date, dtype: object"
      ]
     },
     "execution_count": 87,
     "metadata": {},
     "output_type": "execute_result"
    }
   ],
   "execution_count": 87,
   "source": "df['Date'].head(3)",
   "id": "f39035e38e3bf2a7"
  },
  {
   "metadata": {},
   "cell_type": "markdown",
   "source": "Our `Date` column has a format of `%m/%d/%y`. Let's let Pandas know.",
   "id": "bc17caa87345f887"
  },
  {
   "metadata": {
    "ExecuteTime": {
     "end_time": "2025-04-09T21:25:17.706870Z",
     "start_time": "2025-04-09T21:25:17.695393Z"
    }
   },
   "cell_type": "code",
   "outputs": [],
   "execution_count": 83,
   "source": [
    "df2 = pd.read_csv('data/stock_data.csv', date_format='%m/%d/%y',\n",
    "                  parse_dates=[0])"
   ],
   "id": "e9094603ea014c34"
  },
  {
   "metadata": {
    "ExecuteTime": {
     "end_time": "2025-04-09T21:25:20.326583Z",
     "start_time": "2025-04-09T21:25:20.323364Z"
    }
   },
   "cell_type": "code",
   "outputs": [
    {
     "data": {
      "text/plain": [
       "Date     datetime64[ns]\n",
       "Price           float64\n",
       "dtype: object"
      ]
     },
     "execution_count": 84,
     "metadata": {},
     "output_type": "execute_result"
    }
   ],
   "execution_count": 84,
   "source": "df2.dtypes",
   "id": "5380b14a3be93ad8"
  },
  {
   "metadata": {},
   "cell_type": "markdown",
   "source": [
    "Our `Date` column is now showing up with a correct `dtype`! Let's confirm\n",
    "that its showing up correctly in the DataFrame."
   ],
   "id": "2aa6dd4a19f7e3a7"
  },
  {
   "metadata": {
    "ExecuteTime": {
     "end_time": "2025-04-09T21:29:16.184895Z",
     "start_time": "2025-04-09T21:29:16.179031Z"
    }
   },
   "cell_type": "code",
   "outputs": [
    {
     "data": {
      "text/plain": [
       "        Date    Price\n",
       "0 2015-03-31  2067.89\n",
       "1 2015-04-01  2059.69\n",
       "2 2015-04-02  2066.96"
      ],
      "text/html": [
       "<div>\n",
       "<style scoped>\n",
       "    .dataframe tbody tr th:only-of-type {\n",
       "        vertical-align: middle;\n",
       "    }\n",
       "\n",
       "    .dataframe tbody tr th {\n",
       "        vertical-align: top;\n",
       "    }\n",
       "\n",
       "    .dataframe thead th {\n",
       "        text-align: right;\n",
       "    }\n",
       "</style>\n",
       "<table border=\"1\" class=\"dataframe\">\n",
       "  <thead>\n",
       "    <tr style=\"text-align: right;\">\n",
       "      <th></th>\n",
       "      <th>Date</th>\n",
       "      <th>Price</th>\n",
       "    </tr>\n",
       "  </thead>\n",
       "  <tbody>\n",
       "    <tr>\n",
       "      <th>0</th>\n",
       "      <td>2015-03-31</td>\n",
       "      <td>2067.89</td>\n",
       "    </tr>\n",
       "    <tr>\n",
       "      <th>1</th>\n",
       "      <td>2015-04-01</td>\n",
       "      <td>2059.69</td>\n",
       "    </tr>\n",
       "    <tr>\n",
       "      <th>2</th>\n",
       "      <td>2015-04-02</td>\n",
       "      <td>2066.96</td>\n",
       "    </tr>\n",
       "  </tbody>\n",
       "</table>\n",
       "</div>"
      ]
     },
     "execution_count": 88,
     "metadata": {},
     "output_type": "execute_result"
    }
   ],
   "execution_count": 88,
   "source": "df2.head(3)",
   "id": "7c3df1b06270dbaf"
  }
 ],
 "metadata": {
  "kernelspec": {
   "display_name": "Python 3",
   "language": "python",
   "name": "python3"
  },
  "language_info": {
   "codemirror_mode": {
    "name": "ipython",
    "version": 2
   },
   "file_extension": ".py",
   "mimetype": "text/x-python",
   "name": "python",
   "nbconvert_exporter": "python",
   "pygments_lexer": "ipython2",
   "version": "2.7.6"
  }
 },
 "nbformat": 4,
 "nbformat_minor": 5
}
