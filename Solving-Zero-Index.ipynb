{
 "cells": [
  {
   "metadata": {},
   "cell_type": "markdown",
   "source": "# Solution for zero-based indexing on rows and columns.",
   "id": "5a5de74af8f222a2"
  },
  {
   "metadata": {
    "ExecuteTime": {
     "end_time": "2025-04-07T21:29:28.113748Z",
     "start_time": "2025-04-07T21:29:28.111583Z"
    }
   },
   "cell_type": "code",
   "source": [
    "import numpy as np\n",
    "import pandas as pd"
   ],
   "id": "5e412103133bf38f",
   "outputs": [],
   "execution_count": 15
  },
  {
   "metadata": {},
   "cell_type": "code",
   "outputs": [],
   "execution_count": null,
   "source": [
    "df = pd.DataFrame(\n",
    "    {\n",
    "        1: pd.Series(np.random.randn(3)),\n",
    "        2: pd.Series(np.random.randn(4)),\n",
    "        3: pd.Series(np.random.randn(3))\n",
    "    }\n",
    ")"
   ],
   "id": "fa68237d1d4f2fc1"
  },
  {
   "metadata": {},
   "cell_type": "markdown",
   "source": [
    "__Problem Statement__: Columns use one-based indexing, rows use zero-based\n",
    "indexing."
   ],
   "id": "3415a98577f4d72d"
  },
  {
   "metadata": {
    "ExecuteTime": {
     "end_time": "2025-04-07T21:50:06.567495Z",
     "start_time": "2025-04-07T21:50:06.560584Z"
    }
   },
   "cell_type": "code",
   "source": "df",
   "id": "f82fc2128c8f734a",
   "outputs": [
    {
     "data": {
      "text/plain": [
       "          1         2         3\n",
       "0  0.014378 -0.058808  0.249527\n",
       "1 -0.161731  0.489955 -0.809655\n",
       "2 -1.963997 -1.473087  0.205404\n",
       "3       NaN -0.632783       NaN"
      ],
      "text/html": [
       "<div>\n",
       "<style scoped>\n",
       "    .dataframe tbody tr th:only-of-type {\n",
       "        vertical-align: middle;\n",
       "    }\n",
       "\n",
       "    .dataframe tbody tr th {\n",
       "        vertical-align: top;\n",
       "    }\n",
       "\n",
       "    .dataframe thead th {\n",
       "        text-align: right;\n",
       "    }\n",
       "</style>\n",
       "<table border=\"1\" class=\"dataframe\">\n",
       "  <thead>\n",
       "    <tr style=\"text-align: right;\">\n",
       "      <th></th>\n",
       "      <th>1</th>\n",
       "      <th>2</th>\n",
       "      <th>3</th>\n",
       "    </tr>\n",
       "  </thead>\n",
       "  <tbody>\n",
       "    <tr>\n",
       "      <th>0</th>\n",
       "      <td>0.014378</td>\n",
       "      <td>-0.058808</td>\n",
       "      <td>0.249527</td>\n",
       "    </tr>\n",
       "    <tr>\n",
       "      <th>1</th>\n",
       "      <td>-0.161731</td>\n",
       "      <td>0.489955</td>\n",
       "      <td>-0.809655</td>\n",
       "    </tr>\n",
       "    <tr>\n",
       "      <th>2</th>\n",
       "      <td>-1.963997</td>\n",
       "      <td>-1.473087</td>\n",
       "      <td>0.205404</td>\n",
       "    </tr>\n",
       "    <tr>\n",
       "      <th>3</th>\n",
       "      <td>NaN</td>\n",
       "      <td>-0.632783</td>\n",
       "      <td>NaN</td>\n",
       "    </tr>\n",
       "  </tbody>\n",
       "</table>\n",
       "</div>"
      ]
     },
     "execution_count": 43,
     "metadata": {},
     "output_type": "execute_result"
    }
   ],
   "execution_count": 43
  },
  {
   "metadata": {},
   "cell_type": "markdown",
   "source": "__Solution__: Use `np.arange(n)` to assign a zero-based array to both axes.",
   "id": "5a3bb054781236e4"
  },
  {
   "metadata": {
    "ExecuteTime": {
     "end_time": "2025-04-07T21:48:22.541839Z",
     "start_time": "2025-04-07T21:48:22.538274Z"
    }
   },
   "cell_type": "code",
   "source": [
    "df.index = np.arange(df.index.size)\n",
    "df.columns = np.arange(df.columns.size)"
   ],
   "id": "8cfa9d402558245e",
   "outputs": [],
   "execution_count": 39
  },
  {
   "metadata": {
    "ExecuteTime": {
     "end_time": "2025-04-07T21:48:25.814222Z",
     "start_time": "2025-04-07T21:48:25.809620Z"
    }
   },
   "cell_type": "code",
   "source": "df",
   "id": "8a234a033bd3d8f2",
   "outputs": [
    {
     "data": {
      "text/plain": [
       "          0         1         2\n",
       "0 -0.619340  0.665945       NaN\n",
       "1 -0.571229  0.404684 -0.176778\n",
       "2  0.494343 -0.601367  0.899481\n",
       "3       NaN  0.758379 -0.452082"
      ],
      "text/html": [
       "<div>\n",
       "<style scoped>\n",
       "    .dataframe tbody tr th:only-of-type {\n",
       "        vertical-align: middle;\n",
       "    }\n",
       "\n",
       "    .dataframe tbody tr th {\n",
       "        vertical-align: top;\n",
       "    }\n",
       "\n",
       "    .dataframe thead th {\n",
       "        text-align: right;\n",
       "    }\n",
       "</style>\n",
       "<table border=\"1\" class=\"dataframe\">\n",
       "  <thead>\n",
       "    <tr style=\"text-align: right;\">\n",
       "      <th></th>\n",
       "      <th>0</th>\n",
       "      <th>1</th>\n",
       "      <th>2</th>\n",
       "    </tr>\n",
       "  </thead>\n",
       "  <tbody>\n",
       "    <tr>\n",
       "      <th>0</th>\n",
       "      <td>-0.619340</td>\n",
       "      <td>0.665945</td>\n",
       "      <td>NaN</td>\n",
       "    </tr>\n",
       "    <tr>\n",
       "      <th>1</th>\n",
       "      <td>-0.571229</td>\n",
       "      <td>0.404684</td>\n",
       "      <td>-0.176778</td>\n",
       "    </tr>\n",
       "    <tr>\n",
       "      <th>2</th>\n",
       "      <td>0.494343</td>\n",
       "      <td>-0.601367</td>\n",
       "      <td>0.899481</td>\n",
       "    </tr>\n",
       "    <tr>\n",
       "      <th>3</th>\n",
       "      <td>NaN</td>\n",
       "      <td>0.758379</td>\n",
       "      <td>-0.452082</td>\n",
       "    </tr>\n",
       "  </tbody>\n",
       "</table>\n",
       "</div>"
      ]
     },
     "execution_count": 40,
     "metadata": {},
     "output_type": "execute_result"
    }
   ],
   "execution_count": 40
  }
 ],
 "metadata": {
  "kernelspec": {
   "display_name": "Python 3",
   "language": "python",
   "name": "python3"
  },
  "language_info": {
   "codemirror_mode": {
    "name": "ipython",
    "version": 2
   },
   "file_extension": ".py",
   "mimetype": "text/x-python",
   "name": "python",
   "nbconvert_exporter": "python",
   "pygments_lexer": "ipython2",
   "version": "2.7.6"
  }
 },
 "nbformat": 4,
 "nbformat_minor": 5
}
