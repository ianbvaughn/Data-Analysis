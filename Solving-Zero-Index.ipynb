{
 "cells": [
  {
   "metadata": {},
   "cell_type": "markdown",
   "source": "# Solution for zero-based indexing on rows and columns.",
   "id": "5a5de74af8f222a2"
  },
  {
   "metadata": {
    "ExecuteTime": {
     "end_time": "2025-04-07T21:55:27.646754Z",
     "start_time": "2025-04-07T21:55:27.637679Z"
    }
   },
   "cell_type": "code",
   "source": [
    "import numpy as np\n",
    "import pandas as pd"
   ],
   "id": "5e412103133bf38f",
   "outputs": [],
   "execution_count": 44
  },
  {
   "metadata": {
    "ExecuteTime": {
     "end_time": "2025-04-07T21:55:27.667956Z",
     "start_time": "2025-04-07T21:55:27.665021Z"
    }
   },
   "cell_type": "code",
   "source": [
    "df = pd.DataFrame(\n",
    "    {\n",
    "        1: pd.Series(np.random.randn(3)),\n",
    "        2: pd.Series(np.random.randn(4)),\n",
    "        3: pd.Series(np.random.randn(3))\n",
    "    }\n",
    ")"
   ],
   "id": "fa68237d1d4f2fc1",
   "outputs": [],
   "execution_count": 45
  },
  {
   "metadata": {},
   "cell_type": "markdown",
   "source": [
    "__Problem Statement__: Columns use one-based indexing, rows use zero-based\n",
    "indexing."
   ],
   "id": "3415a98577f4d72d"
  },
  {
   "metadata": {
    "ExecuteTime": {
     "end_time": "2025-04-07T21:55:27.679923Z",
     "start_time": "2025-04-07T21:55:27.674697Z"
    }
   },
   "cell_type": "code",
   "source": "df",
   "id": "f82fc2128c8f734a",
   "outputs": [
    {
     "data": {
      "text/plain": [
       "          1         2         3\n",
       "0 -0.365236  0.919006  1.084460\n",
       "1 -0.200325 -0.190455 -0.346240\n",
       "2  0.391738  0.715565  0.743885\n",
       "3       NaN -0.639404       NaN"
      ],
      "text/html": [
       "<div>\n",
       "<style scoped>\n",
       "    .dataframe tbody tr th:only-of-type {\n",
       "        vertical-align: middle;\n",
       "    }\n",
       "\n",
       "    .dataframe tbody tr th {\n",
       "        vertical-align: top;\n",
       "    }\n",
       "\n",
       "    .dataframe thead th {\n",
       "        text-align: right;\n",
       "    }\n",
       "</style>\n",
       "<table border=\"1\" class=\"dataframe\">\n",
       "  <thead>\n",
       "    <tr style=\"text-align: right;\">\n",
       "      <th></th>\n",
       "      <th>1</th>\n",
       "      <th>2</th>\n",
       "      <th>3</th>\n",
       "    </tr>\n",
       "  </thead>\n",
       "  <tbody>\n",
       "    <tr>\n",
       "      <th>0</th>\n",
       "      <td>-0.365236</td>\n",
       "      <td>0.919006</td>\n",
       "      <td>1.084460</td>\n",
       "    </tr>\n",
       "    <tr>\n",
       "      <th>1</th>\n",
       "      <td>-0.200325</td>\n",
       "      <td>-0.190455</td>\n",
       "      <td>-0.346240</td>\n",
       "    </tr>\n",
       "    <tr>\n",
       "      <th>2</th>\n",
       "      <td>0.391738</td>\n",
       "      <td>0.715565</td>\n",
       "      <td>0.743885</td>\n",
       "    </tr>\n",
       "    <tr>\n",
       "      <th>3</th>\n",
       "      <td>NaN</td>\n",
       "      <td>-0.639404</td>\n",
       "      <td>NaN</td>\n",
       "    </tr>\n",
       "  </tbody>\n",
       "</table>\n",
       "</div>"
      ]
     },
     "execution_count": 46,
     "metadata": {},
     "output_type": "execute_result"
    }
   ],
   "execution_count": 46
  },
  {
   "metadata": {},
   "cell_type": "markdown",
   "source": "__Solution__: Use `np.arange(n)` to assign a zero-based array to both axes.",
   "id": "5a3bb054781236e4"
  },
  {
   "metadata": {
    "ExecuteTime": {
     "end_time": "2025-04-07T21:55:27.738288Z",
     "start_time": "2025-04-07T21:55:27.736027Z"
    }
   },
   "cell_type": "code",
   "source": [
    "df.index = np.arange(df.index.size)\n",
    "df.columns = np.arange(df.columns.size)"
   ],
   "id": "8cfa9d402558245e",
   "outputs": [],
   "execution_count": 47
  },
  {
   "metadata": {
    "ExecuteTime": {
     "end_time": "2025-04-07T21:55:27.772098Z",
     "start_time": "2025-04-07T21:55:27.768179Z"
    }
   },
   "cell_type": "code",
   "source": "df",
   "id": "8a234a033bd3d8f2",
   "outputs": [
    {
     "data": {
      "text/plain": [
       "          0         1         2\n",
       "0 -0.365236  0.919006  1.084460\n",
       "1 -0.200325 -0.190455 -0.346240\n",
       "2  0.391738  0.715565  0.743885\n",
       "3       NaN -0.639404       NaN"
      ],
      "text/html": [
       "<div>\n",
       "<style scoped>\n",
       "    .dataframe tbody tr th:only-of-type {\n",
       "        vertical-align: middle;\n",
       "    }\n",
       "\n",
       "    .dataframe tbody tr th {\n",
       "        vertical-align: top;\n",
       "    }\n",
       "\n",
       "    .dataframe thead th {\n",
       "        text-align: right;\n",
       "    }\n",
       "</style>\n",
       "<table border=\"1\" class=\"dataframe\">\n",
       "  <thead>\n",
       "    <tr style=\"text-align: right;\">\n",
       "      <th></th>\n",
       "      <th>0</th>\n",
       "      <th>1</th>\n",
       "      <th>2</th>\n",
       "    </tr>\n",
       "  </thead>\n",
       "  <tbody>\n",
       "    <tr>\n",
       "      <th>0</th>\n",
       "      <td>-0.365236</td>\n",
       "      <td>0.919006</td>\n",
       "      <td>1.084460</td>\n",
       "    </tr>\n",
       "    <tr>\n",
       "      <th>1</th>\n",
       "      <td>-0.200325</td>\n",
       "      <td>-0.190455</td>\n",
       "      <td>-0.346240</td>\n",
       "    </tr>\n",
       "    <tr>\n",
       "      <th>2</th>\n",
       "      <td>0.391738</td>\n",
       "      <td>0.715565</td>\n",
       "      <td>0.743885</td>\n",
       "    </tr>\n",
       "    <tr>\n",
       "      <th>3</th>\n",
       "      <td>NaN</td>\n",
       "      <td>-0.639404</td>\n",
       "      <td>NaN</td>\n",
       "    </tr>\n",
       "  </tbody>\n",
       "</table>\n",
       "</div>"
      ]
     },
     "execution_count": 48,
     "metadata": {},
     "output_type": "execute_result"
    }
   ],
   "execution_count": 48
  }
 ],
 "metadata": {
  "kernelspec": {
   "display_name": "Python 3",
   "language": "python",
   "name": "python3"
  },
  "language_info": {
   "codemirror_mode": {
    "name": "ipython",
    "version": 2
   },
   "file_extension": ".py",
   "mimetype": "text/x-python",
   "name": "python",
   "nbconvert_exporter": "python",
   "pygments_lexer": "ipython2",
   "version": "2.7.6"
  }
 },
 "nbformat": 4,
 "nbformat_minor": 5
}
