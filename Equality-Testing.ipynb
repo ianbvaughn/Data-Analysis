{
 "cells": [
  {
   "metadata": {},
   "cell_type": "markdown",
   "source": "# Writing Equality Tests in NumPy and Pandas",
   "id": "5a3d595672104808"
  },
  {
   "metadata": {
    "ExecuteTime": {
     "end_time": "2025-04-08T19:03:15.909308Z",
     "start_time": "2025-04-08T19:03:15.886994Z"
    }
   },
   "cell_type": "code",
   "outputs": [],
   "execution_count": 44,
   "source": [
    "import numpy as np\n",
    "import numpy.testing as npt\n",
    "import pandas as pd"
   ],
   "id": "baf0797b86542150"
  },
  {
   "metadata": {},
   "cell_type": "markdown",
   "source": "1. Instantiate a DataFrame `df`",
   "id": "2553e9f949437af8"
  },
  {
   "metadata": {
    "ExecuteTime": {
     "end_time": "2025-04-08T19:00:34.096763Z",
     "start_time": "2025-04-08T19:00:34.093523Z"
    }
   },
   "cell_type": "code",
   "outputs": [],
   "execution_count": 36,
   "source": [
    "df = pd.DataFrame({\n",
    "    0: [1,2,3,4,5],\n",
    "    1: [6,7,8,9,10]\n",
    "})"
   ],
   "id": "8c3487b364575c67"
  },
  {
   "metadata": {},
   "cell_type": "markdown",
   "source": [
    "2. Instantiate a second DataFrame `df_eq`, which returns a Series containing\n",
    " the equality value of each column across both DataFrames."
   ],
   "id": "d19b7e57283abea5"
  },
  {
   "metadata": {
    "ExecuteTime": {
     "end_time": "2025-04-08T19:06:18.658833Z",
     "start_time": "2025-04-08T19:06:18.654691Z"
    }
   },
   "cell_type": "code",
   "outputs": [],
   "execution_count": 53,
   "source": "df_eq = df.eq(df.copy()).all()",
   "id": "b564a272f91d9e33"
  },
  {
   "metadata": {
    "ExecuteTime": {
     "end_time": "2025-04-08T19:07:55.504162Z",
     "start_time": "2025-04-08T19:07:55.499853Z"
    }
   },
   "cell_type": "code",
   "outputs": [
    {
     "data": {
      "text/plain": [
       "pandas.core.series.Series"
      ]
     },
     "execution_count": 56,
     "metadata": {},
     "output_type": "execute_result"
    }
   ],
   "execution_count": 56,
   "source": "type(df_eq)",
   "id": "342e83d5eeb42aeb"
  },
  {
   "metadata": {},
   "cell_type": "markdown",
   "source": "3. Write an assertion which states that all elements of `df_eq` are `True`",
   "id": "5b46739e0afec762"
  },
  {
   "metadata": {
    "ExecuteTime": {
     "end_time": "2025-04-08T19:09:56.750855Z",
     "start_time": "2025-04-08T19:09:56.747497Z"
    }
   },
   "cell_type": "code",
   "outputs": [],
   "execution_count": 58,
   "source": "npt.assert_array_equal(df_eq,True)",
   "id": "7e17ba152cdb47b0"
  },
  {
   "metadata": {},
   "cell_type": "markdown",
   "source": "No exceptions are raised, so our test passed.",
   "id": "82647d2ba21545e3"
  }
 ],
 "metadata": {
  "kernelspec": {
   "display_name": "Python 3",
   "language": "python",
   "name": "python3"
  },
  "language_info": {
   "codemirror_mode": {
    "name": "ipython",
    "version": 2
   },
   "file_extension": ".py",
   "mimetype": "text/x-python",
   "name": "python",
   "nbconvert_exporter": "python",
   "pygments_lexer": "ipython2",
   "version": "2.7.6"
  }
 },
 "nbformat": 4,
 "nbformat_minor": 5
}
